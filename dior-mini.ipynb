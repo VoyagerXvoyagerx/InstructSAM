{
 "cells": [
  {
   "cell_type": "code",
   "execution_count": 2,
   "metadata": {},
   "outputs": [],
   "source": [
    "# dior\n",
    "img_dir = '/home/zkcs/datasets/dior/JPEGImages-trainval'\n",
    "ann_path = '/home/zkcs/datasets/dior/dior_ins_val.json'\n",
    "count_dir = './object_counts/dior/gpt-4o-2024-11-20_ov_detail5'\n",
    "rp_path = './region_proposals/dior/sam2-l_thr0.75_nms0.5_maxMask200_val_500.json'\n",
    "rp_merge_path = './region_proposals/dior/sam2-l_thr0.75_nms0.5_maxMask200_val_500.json'"
   ]
  },
  {
   "cell_type": "code",
   "execution_count": 3,
   "metadata": {},
   "outputs": [],
   "source": [
    "selected_img_name = ['09938.jpg', '09100.jpg', '06796.jpg', '06486.jpg']"
   ]
  },
  {
   "cell_type": "code",
   "execution_count": 1,
   "metadata": {},
   "outputs": [],
   "source": [
    "save_ann_path = '/home/zkcs/zyj/InstructSAM/datasets/dior/dior_mini_ann.json'"
   ]
  },
  {
   "cell_type": "code",
   "execution_count": 5,
   "metadata": {},
   "outputs": [
    {
     "name": "stdout",
     "output_type": "stream",
     "text": [
      "已保存 4 张图片的标注到 /home/zkcs/zyj/InstructSAM/datasets/dior/dior_mini_ann.json\n"
     ]
    }
   ],
   "source": [
    "import json\n",
    "\n",
    "# 输入文件路径\n",
    "ann_path = '/home/zkcs/datasets/dior/dior_ins_val.json'  # COCO 格式标注文件\n",
    "selected_img_name = ['09938.jpg', '09100.jpg', '06796.jpg', '06486.jpg']  # 目标图片列表\n",
    "save_ann_path = '/home/zkcs/zyj/InstructSAM/datasets/dior/dior_mini_ann.json'  # 输出文件路径\n",
    "\n",
    "# 加载原始标注文件\n",
    "with open(ann_path, 'r') as f:\n",
    "    coco_data = json.load(f)\n",
    "\n",
    "# 提取目标图片的 ID\n",
    "selected_img_ids = [\n",
    "    img['id'] for img in coco_data['images'] \n",
    "    if img['file_name'] in selected_img_name\n",
    "]\n",
    "\n",
    "# 提取目标图片的标注信息\n",
    "selected_annotations = [\n",
    "    ann for ann in coco_data['annotations'] \n",
    "    if ann['image_id'] in selected_img_ids\n",
    "]\n",
    "\n",
    "# 构建新的 COCO 格式数据\n",
    "mini_coco_data = {\n",
    "    \"info\": coco_data.get(\"info\", {}),\n",
    "    \"licenses\": coco_data.get(\"licenses\", []),\n",
    "    \"categories\": coco_data.get(\"categories\", []),\n",
    "    \"images\": [img for img in coco_data['images'] if img['id'] in selected_img_ids],\n",
    "    \"annotations\": selected_annotations\n",
    "}\n",
    "\n",
    "# 保存结果\n",
    "with open(save_ann_path, 'w') as f:\n",
    "    json.dump(mini_coco_data, f, indent=4)\n",
    "\n",
    "print(f\"已保存 {len(selected_img_name)} 张图片的标注到 {save_ann_path}\")"
   ]
  },
  {
   "cell_type": "code",
   "execution_count": null,
   "metadata": {},
   "outputs": [],
   "source": []
  }
 ],
 "metadata": {
  "kernelspec": {
   "display_name": "insam",
   "language": "python",
   "name": "python3"
  },
  "language_info": {
   "codemirror_mode": {
    "name": "ipython",
    "version": 3
   },
   "file_extension": ".py",
   "mimetype": "text/x-python",
   "name": "python",
   "nbconvert_exporter": "python",
   "pygments_lexer": "ipython3",
   "version": "3.10.16"
  }
 },
 "nbformat": 4,
 "nbformat_minor": 2
}
